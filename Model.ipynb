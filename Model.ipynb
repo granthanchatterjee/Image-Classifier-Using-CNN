{
 "cells": [
  {
   "cell_type": "markdown",
   "id": "591753b2",
   "metadata": {},
   "source": [
    "# Load and preprocess data:"
   ]
  },
  {
   "cell_type": "code",
   "execution_count": 1,
   "id": "ebb1a968",
   "metadata": {},
   "outputs": [],
   "source": [
    "import cv2\n",
    "import os\n",
    "import numpy as np\n",
    "\n",
    "data = \"CNN//Data\" # Update as per your directory\n",
    "X_data = []\n",
    "y_data = []\n",
    "class_names = os.listdir(data)\n",
    "for class_name in class_names:\n",
    "    class_dir = os.path.join(data, class_name)\n",
    "    if os.path.isdir(class_dir):\n",
    "        for img_name in os.listdir(class_dir):\n",
    "            img_path = os.path.join(class_dir, img_name)\n",
    "            img = cv2.imread(img_path)\n",
    "            if img is not None:\n",
    "                img = cv2.resize(img, (150, 150))\n",
    "                img = img.astype('float32') / 255.0\n",
    "                X_data.append(img)\n",
    "                y_data.append(class_name)\n",
    "X_data = np.array(X_data)\n",
    "y_data = np.array(y_data)"
   ]
  },
  {
   "cell_type": "markdown",
   "id": "b3d997da",
   "metadata": {},
   "source": [
    "# Training data"
   ]
  },
  {
   "cell_type": "code",
   "execution_count": 2,
   "id": "981f43d4",
   "metadata": {
    "scrolled": true
   },
   "outputs": [
    {
     "name": "stdout",
     "output_type": "stream",
     "text": [
      "Epoch 1/20\n",
      "10/10 [==============================] - 2s 109ms/step - loss: 1.1188 - accuracy: 0.4474 - val_loss: 1.0916 - val_accuracy: 0.5000\n",
      "Epoch 2/20\n",
      "10/10 [==============================] - 1s 91ms/step - loss: 0.6538 - accuracy: 0.7105 - val_loss: 1.0317 - val_accuracy: 0.5000\n",
      "Epoch 3/20\n",
      "10/10 [==============================] - 1s 88ms/step - loss: 0.5018 - accuracy: 0.7895 - val_loss: 0.5515 - val_accuracy: 0.7000\n",
      "Epoch 4/20\n",
      "10/10 [==============================] - 1s 99ms/step - loss: 0.1903 - accuracy: 0.9474 - val_loss: 0.9302 - val_accuracy: 0.9000\n",
      "Epoch 5/20\n",
      "10/10 [==============================] - 1s 96ms/step - loss: 0.1029 - accuracy: 0.9474 - val_loss: 0.8264 - val_accuracy: 0.9000\n",
      "Epoch 6/20\n",
      "10/10 [==============================] - 1s 97ms/step - loss: 0.1780 - accuracy: 0.9737 - val_loss: 0.5214 - val_accuracy: 0.9000\n",
      "Epoch 7/20\n",
      "10/10 [==============================] - 1s 97ms/step - loss: 0.0569 - accuracy: 1.0000 - val_loss: 0.4180 - val_accuracy: 0.8000\n",
      "Epoch 8/20\n",
      "10/10 [==============================] - 1s 92ms/step - loss: 0.0314 - accuracy: 1.0000 - val_loss: 1.0779 - val_accuracy: 0.7000\n",
      "Epoch 9/20\n",
      "10/10 [==============================] - 1s 92ms/step - loss: 0.0152 - accuracy: 1.0000 - val_loss: 0.6029 - val_accuracy: 0.9000\n",
      "Epoch 10/20\n",
      "10/10 [==============================] - 1s 92ms/step - loss: 0.0040 - accuracy: 1.0000 - val_loss: 0.5083 - val_accuracy: 0.8000\n",
      "Epoch 11/20\n",
      "10/10 [==============================] - 1s 93ms/step - loss: 0.0012 - accuracy: 1.0000 - val_loss: 0.5514 - val_accuracy: 0.8000\n",
      "Epoch 12/20\n",
      "10/10 [==============================] - 1s 95ms/step - loss: 3.0192e-04 - accuracy: 1.0000 - val_loss: 0.5884 - val_accuracy: 0.9000\n",
      "Epoch 13/20\n",
      "10/10 [==============================] - 1s 95ms/step - loss: 1.7395e-04 - accuracy: 1.0000 - val_loss: 0.6189 - val_accuracy: 0.9000\n",
      "Epoch 14/20\n",
      "10/10 [==============================] - 1s 97ms/step - loss: 1.3173e-04 - accuracy: 1.0000 - val_loss: 0.6609 - val_accuracy: 0.9000\n",
      "Epoch 15/20\n",
      "10/10 [==============================] - 1s 92ms/step - loss: 9.2319e-05 - accuracy: 1.0000 - val_loss: 0.6881 - val_accuracy: 0.9000\n",
      "Epoch 16/20\n",
      "10/10 [==============================] - 1s 96ms/step - loss: 7.8962e-05 - accuracy: 1.0000 - val_loss: 0.7151 - val_accuracy: 0.9000\n",
      "Epoch 17/20\n",
      "10/10 [==============================] - 1s 89ms/step - loss: 6.3141e-05 - accuracy: 1.0000 - val_loss: 0.7399 - val_accuracy: 0.9000\n",
      "Epoch 18/20\n",
      "10/10 [==============================] - 1s 90ms/step - loss: 4.8340e-05 - accuracy: 1.0000 - val_loss: 0.7583 - val_accuracy: 0.9000\n",
      "Epoch 19/20\n",
      "10/10 [==============================] - 1s 91ms/step - loss: 4.2369e-05 - accuracy: 1.0000 - val_loss: 0.7772 - val_accuracy: 0.9000\n",
      "Epoch 20/20\n",
      "10/10 [==============================] - 1s 89ms/step - loss: 3.4162e-05 - accuracy: 1.0000 - val_loss: 0.7978 - val_accuracy: 0.9000\n",
      "1/1 [==============================] - 0s 43ms/step - loss: 0.7978 - accuracy: 0.9000\n",
      "Test loss: 0.7978373765945435\n",
      "Test accuracy: 0.8999999761581421\n"
     ]
    }
   ],
   "source": [
    "from sklearn.model_selection import train_test_split\n",
    "from sklearn.preprocessing import LabelEncoder\n",
    "from keras.models import Sequential\n",
    "from keras.layers import Conv2D, MaxPooling2D, Flatten, Dense\n",
    "\n",
    "label_encoder = LabelEncoder()\n",
    "y_data_encoded = label_encoder.fit_transform(y_data)\n",
    "\n",
    "X_train, X_val, y_train, y_val = train_test_split(X_data, y_data_encoded, test_size=0.2, random_state=42)\n",
    "\n",
    "model = Sequential()\n",
    "model.add(Conv2D(32, (3, 3), activation='relu', input_shape=(150, 150, 3)))\n",
    "model.add(MaxPooling2D((2, 2)))\n",
    "model.add(Conv2D(64, (3, 3), activation='relu'))\n",
    "model.add(MaxPooling2D((2, 2)))\n",
    "model.add(Conv2D(128, (3, 3), activation='relu'))\n",
    "model.add(MaxPooling2D((2, 2)))\n",
    "model.add(Flatten())\n",
    "model.add(Dense(128, activation='relu'))\n",
    "model.add(Dense(len(class_names), activation='softmax'))\n",
    "model.compile(optimizer='adam', loss='sparse_categorical_crossentropy', metrics=['accuracy'])\n",
    "history = model.fit(X_train, y_train, epochs=20, batch_size=4, validation_data=(X_val, y_val))\n",
    "test_loss, test_acc = model.evaluate(X_val, y_val)\n",
    "print('Test loss:', test_loss)\n",
    "print('Test accuracy:', test_acc)"
   ]
  },
  {
   "cell_type": "markdown",
   "id": "0c9a7ff0",
   "metadata": {},
   "source": [
    "# Testing Data"
   ]
  },
  {
   "cell_type": "markdown",
   "id": "a1f0357f",
   "metadata": {},
   "source": [
    "## Bulbasaur:"
   ]
  },
  {
   "cell_type": "code",
   "execution_count": 3,
   "id": "c9d0e3b1",
   "metadata": {},
   "outputs": [
    {
     "name": "stdout",
     "output_type": "stream",
     "text": [
      "1/1 [==============================] - 0s 93ms/step\n",
      "Predicted label: Bulbasaur\n"
     ]
    }
   ],
   "source": [
    "test_image_path = \"CNN//Test//t1.jpeg\" # Update as per your directory\n",
    "test_image = cv2.imread(test_image_path)\n",
    "test_image = cv2.resize(test_image, (150, 150))\n",
    "test_image = test_image.astype('float32') / 255.0\n",
    "test_image = np.expand_dims(test_image, axis=0)\n",
    "prediction = model.predict(test_image)\n",
    "predicted_label = class_names[np.argmax(prediction)]\n",
    "print(\"Predicted label:\", predicted_label)"
   ]
  },
  {
   "cell_type": "code",
   "execution_count": 4,
   "id": "7b01b685",
   "metadata": {},
   "outputs": [
    {
     "name": "stdout",
     "output_type": "stream",
     "text": [
      "1/1 [==============================] - 0s 26ms/step\n",
      "Predicted label: Bulbasaur\n"
     ]
    }
   ],
   "source": [
    "test_image_path = \"CNN//Test//u1.jpeg\" # Update as per your directory\n",
    "test_image = cv2.imread(test_image_path)\n",
    "test_image = cv2.resize(test_image, (150, 150))\n",
    "test_image = test_image.astype('float32') / 255.0\n",
    "test_image = np.expand_dims(test_image, axis=0)\n",
    "prediction = model.predict(test_image)\n",
    "predicted_label = class_names[np.argmax(prediction)]\n",
    "print(\"Predicted label:\", predicted_label)"
   ]
  },
  {
   "cell_type": "code",
   "execution_count": 5,
   "id": "d1d9980f",
   "metadata": {},
   "outputs": [
    {
     "name": "stdout",
     "output_type": "stream",
     "text": [
      "1/1 [==============================] - 0s 28ms/step\n",
      "Predicted label: Bulbasaur\n"
     ]
    }
   ],
   "source": [
    "test_image_path = \"CNN//Test//v1.jpeg\" # Update as per your directory\n",
    "test_image = cv2.imread(test_image_path)\n",
    "test_image = cv2.resize(test_image, (150, 150))\n",
    "test_image = test_image.astype('float32') / 255.0\n",
    "test_image = np.expand_dims(test_image, axis=0)\n",
    "prediction = model.predict(test_image)\n",
    "predicted_label = class_names[np.argmax(prediction)]\n",
    "print(\"Predicted label:\", predicted_label)"
   ]
  },
  {
   "cell_type": "markdown",
   "id": "9f834af5",
   "metadata": {},
   "source": [
    "## Charmander:"
   ]
  },
  {
   "cell_type": "code",
   "execution_count": 6,
   "id": "fa433cec",
   "metadata": {},
   "outputs": [
    {
     "name": "stdout",
     "output_type": "stream",
     "text": [
      "1/1 [==============================] - 0s 28ms/step\n",
      "Predicted label: Charmander\n"
     ]
    }
   ],
   "source": [
    "test_image_path = \"CNN//Test//t2.jpeg\" # Update as per your directory\n",
    "test_image = cv2.imread(test_image_path)\n",
    "test_image = cv2.resize(test_image, (150, 150))\n",
    "test_image = test_image.astype('float32') / 255.0\n",
    "test_image = np.expand_dims(test_image, axis=0)\n",
    "prediction = model.predict(test_image)\n",
    "predicted_label = class_names[np.argmax(prediction)]\n",
    "print(\"Predicted label:\", predicted_label)"
   ]
  },
  {
   "cell_type": "code",
   "execution_count": 7,
   "id": "4422b33e",
   "metadata": {},
   "outputs": [
    {
     "name": "stdout",
     "output_type": "stream",
     "text": [
      "1/1 [==============================] - 0s 27ms/step\n",
      "Predicted label: Charmander\n"
     ]
    }
   ],
   "source": [
    "test_image_path = \"CNN//Test//u2.jpeg\" # Update as per your directory\n",
    "test_image = cv2.imread(test_image_path)\n",
    "test_image = cv2.resize(test_image, (150, 150))\n",
    "test_image = test_image.astype('float32') / 255.0\n",
    "test_image = np.expand_dims(test_image, axis=0)\n",
    "prediction = model.predict(test_image)\n",
    "predicted_label = class_names[np.argmax(prediction)]\n",
    "print(\"Predicted label:\", predicted_label)"
   ]
  },
  {
   "cell_type": "code",
   "execution_count": 8,
   "id": "4a35e86b",
   "metadata": {},
   "outputs": [
    {
     "name": "stdout",
     "output_type": "stream",
     "text": [
      "1/1 [==============================] - 0s 28ms/step\n",
      "Predicted label: Charmander\n"
     ]
    }
   ],
   "source": [
    "test_image_path = \"CNN//Test//v2.jpeg\" # Update as per your directory\n",
    "test_image = cv2.imread(test_image_path)\n",
    "test_image = cv2.resize(test_image, (150, 150))\n",
    "test_image = test_image.astype('float32') / 255.0\n",
    "test_image = np.expand_dims(test_image, axis=0)\n",
    "prediction = model.predict(test_image)\n",
    "predicted_label = class_names[np.argmax(prediction)]\n",
    "print(\"Predicted label:\", predicted_label)"
   ]
  },
  {
   "cell_type": "markdown",
   "id": "dd710429",
   "metadata": {},
   "source": [
    "## Squirtle:"
   ]
  },
  {
   "cell_type": "code",
   "execution_count": 9,
   "id": "970c9ca4",
   "metadata": {},
   "outputs": [
    {
     "name": "stdout",
     "output_type": "stream",
     "text": [
      "1/1 [==============================] - 0s 25ms/step\n",
      "Predicted label: Squirtle\n"
     ]
    }
   ],
   "source": [
    "test_image_path = \"CNN//Test//t3.jpeg\" # Update as per your directory\n",
    "test_image = cv2.imread(test_image_path)\n",
    "test_image = cv2.resize(test_image, (150, 150))\n",
    "test_image = test_image.astype('float32') / 255.0\n",
    "test_image = np.expand_dims(test_image, axis=0)\n",
    "prediction = model.predict(test_image)\n",
    "predicted_label = class_names[np.argmax(prediction)]\n",
    "print(\"Predicted label:\", predicted_label)"
   ]
  },
  {
   "cell_type": "code",
   "execution_count": 10,
   "id": "f978f532",
   "metadata": {},
   "outputs": [
    {
     "name": "stdout",
     "output_type": "stream",
     "text": [
      "1/1 [==============================] - 0s 26ms/step\n",
      "Predicted label: Squirtle\n"
     ]
    }
   ],
   "source": [
    "test_image_path = \"CNN//Test//u3.jpeg\" # Update as per your directory\n",
    "test_image = cv2.imread(test_image_path)\n",
    "test_image = cv2.resize(test_image, (150, 150))\n",
    "test_image = test_image.astype('float32') / 255.0\n",
    "test_image = np.expand_dims(test_image, axis=0)\n",
    "prediction = model.predict(test_image)\n",
    "predicted_label = class_names[np.argmax(prediction)]\n",
    "print(\"Predicted label:\", predicted_label)"
   ]
  },
  {
   "cell_type": "code",
   "execution_count": 11,
   "id": "b2dcc08c",
   "metadata": {},
   "outputs": [
    {
     "name": "stdout",
     "output_type": "stream",
     "text": [
      "1/1 [==============================] - 0s 27ms/step\n",
      "Predicted label: Squirtle\n"
     ]
    }
   ],
   "source": [
    "test_image_path = \"CNN//Test//v3.jpeg\" # Update as per your directory\n",
    "test_image = cv2.imread(test_image_path)\n",
    "test_image = cv2.resize(test_image, (150, 150))\n",
    "test_image = test_image.astype('float32') / 255.0\n",
    "test_image = np.expand_dims(test_image, axis=0)\n",
    "prediction = model.predict(test_image)\n",
    "predicted_label = class_names[np.argmax(prediction)]\n",
    "print(\"Predicted label:\", predicted_label)"
   ]
  },
  {
   "cell_type": "markdown",
   "id": "39624f5a",
   "metadata": {},
   "source": [
    "## human(Wrong Image)"
   ]
  },
  {
   "cell_type": "code",
   "execution_count": 12,
   "id": "6c772e28",
   "metadata": {},
   "outputs": [
    {
     "name": "stdout",
     "output_type": "stream",
     "text": [
      "1/1 [==============================] - 0s 32ms/step\n",
      "Predicted label: Bulbasaur\n"
     ]
    }
   ],
   "source": [
    "test_image_path = \"CNN//Test//human.jpeg\" # Update as per your directory\n",
    "test_image = cv2.imread(test_image_path)\n",
    "test_image = cv2.resize(test_image, (150, 150))\n",
    "test_image = test_image.astype('float32') / 255.0\n",
    "test_image = np.expand_dims(test_image, axis=0)\n",
    "prediction = model.predict(test_image)\n",
    "predicted_label = class_names[np.argmax(prediction)]\n",
    "print(\"Predicted label:\", predicted_label)"
   ]
  }
 ],
 "metadata": {
  "kernelspec": {
   "display_name": "Python 3 (ipykernel)",
   "language": "python",
   "name": "python3"
  },
  "language_info": {
   "codemirror_mode": {
    "name": "ipython",
    "version": 3
   },
   "file_extension": ".py",
   "mimetype": "text/x-python",
   "name": "python",
   "nbconvert_exporter": "python",
   "pygments_lexer": "ipython3",
   "version": "3.9.13"
  }
 },
 "nbformat": 4,
 "nbformat_minor": 5
}
